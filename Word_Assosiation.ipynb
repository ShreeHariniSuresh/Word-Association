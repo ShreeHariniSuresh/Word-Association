{
  "nbformat": 4,
  "nbformat_minor": 0,
  "metadata": {
    "colab": {
      "provenance": []
    },
    "kernelspec": {
      "name": "python3",
      "display_name": "Python 3"
    },
    "language_info": {
      "name": "python"
    }
  },
  "cells": [
    {
      "cell_type": "code",
      "source": [
        "import random\n",
        "import difflib\n",
        "from nltk.corpus import wordnet\n",
        "import nltk\n",
        "\n",
        "# Download necessary NLTK data files (only needed once)\n",
        "nltk.download('wordnet')\n",
        "nltk.download('omw-1.4')\n",
        "\n",
        "# Word list\n",
        "WORDS = (\"python\", \"jumble\", \"easy\", \"difficult\", \"answer\", \"xylophone\")\n",
        "word = random.choice(WORDS)\n",
        "correct = word\n",
        "jumble = \"\"\n",
        "\n",
        "# Jumble the word\n",
        "temp_word = word\n",
        "while temp_word:\n",
        "    position = random.randrange(len(temp_word))\n",
        "    jumble += temp_word[position]\n",
        "    temp_word = temp_word[:position] + temp_word[(position + 1):]\n",
        "\n",
        "# Function to provide hints using NLP\n",
        "def get_hint(word):\n",
        "    synonyms = wordnet.synsets(word)\n",
        "    if synonyms:\n",
        "        definition = synonyms[0].definition()\n",
        "        example = synonyms[0].examples()[0] if synonyms[0].examples() else \"No example available\"\n",
        "        return f\"Hint: {definition}. Example: {example}\"\n",
        "    else:\n",
        "        return \"Hint: No hints available for this word.\"\n",
        "\n",
        "print(\n",
        "\"\"\"\n",
        "      Welcome to WORD JUMBLE with NLP!!!\n",
        "      Unscramble the letters to make a word.\n",
        "      Type 'hint' for a hint or press the enter key at prompt to quit.\n",
        "\"\"\"\n",
        ")\n",
        "print(\"The jumble is:\", jumble)\n",
        "\n",
        "# Start the game\n",
        "guess = input(\"Your guess: \").strip().lower()\n",
        "while guess != correct and guess != \"\":\n",
        "    if guess == \"hint\":\n",
        "        print(get_hint(correct))\n",
        "    else:\n",
        "        # Check similarity using difflib\n",
        "        similarity = difflib.SequenceMatcher(None, guess, correct).ratio()\n",
        "        if similarity > 0.7:\n",
        "            print(f\"Close! Your guess is {similarity * 100:.2f}% similar to the correct word.\")\n",
        "        else:\n",
        "            print(\"Sorry, that's not it.\")\n",
        "    guess = input(\"Your guess: \").strip().lower()\n",
        "\n",
        "if guess == correct:\n",
        "    print(\"That's it, you guessed it!\\n\")\n",
        "\n",
        "print(\"Thanks for playing\")\n",
        "input(\"\\n\\nPress the enter key to exit\")"
      ],
      "metadata": {
        "colab": {
          "base_uri": "https://localhost:8080/"
        },
        "id": "XDebunJUrH_H",
        "outputId": "db522bf5-61bb-4230-c1d6-af0060e1f68b"
      },
      "execution_count": null,
      "outputs": [
        {
          "output_type": "stream",
          "name": "stderr",
          "text": [
            "[nltk_data] Downloading package wordnet to /root/nltk_data...\n",
            "[nltk_data] Downloading package omw-1.4 to /root/nltk_data...\n"
          ]
        },
        {
          "output_type": "stream",
          "name": "stdout",
          "text": [
            "\n",
            "      Welcome to WORD JUMBLE with NLP!!!\n",
            "      Unscramble the letters to make a word.\n",
            "      Type 'hint' for a hint or press the enter key at prompt to quit.\n",
            "\n",
            "The jumble is: hxnyolpeo\n",
            "Your guess: hint\n",
            "Hint: a percussion instrument with wooden bars tuned to produce a chromatic scale and with resonators; played with small mallets. Example: No example available\n"
          ]
        }
      ]
    }
  ]
}